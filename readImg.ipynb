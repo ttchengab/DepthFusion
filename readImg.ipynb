{
 "cells": [
  {
   "cell_type": "code",
   "execution_count": 135,
   "metadata": {},
   "outputs": [],
   "source": [
    "from PIL import Image\n",
    "import matplotlib.pyplot as plt\n",
    "import numpy as np\n",
    "from struct import *"
   ]
  },
  {
   "cell_type": "code",
   "execution_count": 187,
   "metadata": {},
   "outputs": [
    {
     "name": "stdout",
     "output_type": "stream",
     "text": [
      "2519\n",
      "depth/1311871922.651261.png\n"
     ]
    }
   ],
   "source": [
    "depthFile = open('datasets/rgbd_dataset_freiburg2_coke/depth.txt')\n",
    "depthFile.readline()\n",
    "depthFile.readline()\n",
    "depthFile.readline()\n",
    "imageNames = []\n",
    "for line in depthFile:\n",
    "    [_, imageName] = line.split(\" \")\n",
    "    imageNames.append(imageName.rstrip())\n",
    "\n",
    "print(len(imageNames))\n",
    "print(imageNames[0])"
   ]
  },
  {
   "cell_type": "code",
   "execution_count": 188,
   "metadata": {},
   "outputs": [
    {
     "name": "stdout",
     "output_type": "stream",
     "text": [
      "1311871922.651261.png\n",
      "1311871922.683854.png\n",
      "1311871922.718913.png\n",
      "1311871922.756051.png\n",
      "1311871922.781865.png\n",
      "1311871922.818322.png\n",
      "1311871922.854137.png\n",
      "1311871922.883271.png\n",
      "1311871922.919994.png\n",
      "1311871922.951442.png\n",
      "1311871922.983782.png\n",
      "1311871923.019267.png\n",
      "1311871923.051320.png\n",
      "1311871923.083302.png\n",
      "1311871923.119138.png\n",
      "1311871923.153461.png\n",
      "1311871923.183407.png\n",
      "1311871923.219551.png\n",
      "1311871923.251686.png\n",
      "1311871923.284231.png\n",
      "1311871923.319618.png\n",
      "1311871923.354634.png\n",
      "1311871923.385095.png\n",
      "1311871923.419574.png\n",
      "1311871923.452515.png\n",
      "1311871923.481470.png\n",
      "1311871923.519112.png\n",
      "1311871923.552720.png\n",
      "1311871923.585541.png\n",
      "1311871923.619205.png\n"
     ]
    }
   ],
   "source": [
    "root_path = 'datasets/rgbd_dataset_freiburg2_coke/'\n",
    "for i in range(30):\n",
    "    image_name = imageNames[i]\n",
    "    x = Image.open(root_path + image_name)\n",
    "    x = np.array(x).tolist()\n",
    "    flat_list = [item for sublist in x for item in sublist]\n",
    "\n",
    "    newName = image_name[6:]\n",
    "    print(newName)\n",
    "    binFile = open('binDepths/coke/' + newName + '.bin', \"wb\")\n",
    "    for i in flat_list:\n",
    "        x = i.to_bytes(2, 'little')\n",
    "        binFile.write(x)\n",
    "    binFile.close()\n"
   ]
  },
  {
   "cell_type": "code",
   "execution_count": null,
   "metadata": {},
   "outputs": [],
   "source": []
  },
  {
   "cell_type": "code",
   "execution_count": 149,
   "metadata": {},
   "outputs": [],
   "source": [
    "# binFile = open('temp123.bin',\"wb\") \n",
    "# binFile.write(newFileByteArray) "
   ]
  },
  {
   "cell_type": "code",
   "execution_count": null,
   "metadata": {},
   "outputs": [],
   "source": []
  }
 ],
 "metadata": {
  "kernelspec": {
   "display_name": "Python 3",
   "language": "python",
   "name": "python3"
  },
  "language_info": {
   "codemirror_mode": {
    "name": "ipython",
    "version": 3
   },
   "file_extension": ".py",
   "mimetype": "text/x-python",
   "name": "python",
   "nbconvert_exporter": "python",
   "pygments_lexer": "ipython3",
   "version": "3.7.4"
  }
 },
 "nbformat": 4,
 "nbformat_minor": 4
}
